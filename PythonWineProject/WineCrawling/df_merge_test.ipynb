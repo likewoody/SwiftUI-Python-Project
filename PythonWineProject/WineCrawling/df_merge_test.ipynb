{
 "cells": [
  {
   "cell_type": "code",
   "execution_count": 1,
   "metadata": {},
   "outputs": [],
   "source": [
    "import pandas as pd\n",
    "import numpy as np"
   ]
  },
  {
   "cell_type": "code",
   "execution_count": 2,
   "metadata": {},
   "outputs": [],
   "source": [
    "rhone_valley_wines_f = pd.read_csv('./Data/wine_RhoneValley_rmDupl.csv').drop(columns='Unnamed: 0')"
   ]
  },
  {
   "cell_type": "code",
   "execution_count": 3,
   "metadata": {},
   "outputs": [],
   "source": [
    "rhone_valley_wines_o = pd.read_csv('./Data/French_red_white_wines2_re.csv')"
   ]
  },
  {
   "cell_type": "code",
   "execution_count": 12,
   "metadata": {},
   "outputs": [],
   "source": [
    "def inner_join(leftdf, rightdf):\n",
    "    right_copy = rightdf.drop_duplicates()\n",
    "    right_copy.drop(columns=['Allergy', 'bodyPercent', 'Tanning', 'Acidic', 'NewBodyPercent', 'NewTanning', 'NewAcidic', 'year', 'price'], inplace=True)\n",
    "    right_copy.reset_index(drop=True, inplace=True)\n",
    "    left_copy = leftdf.drop_duplicates()\n",
    "    inner_join_df = pd.merge(left_copy, right_copy, on='name', how='left')\n",
    "    inner_join_df.dropna(axis=0, inplace=True)\n",
    "    inner_join_df.reset_index(drop=True, inplace=True)\n",
    "\n",
    "    return inner_join_df"
   ]
  },
  {
   "cell_type": "code",
   "execution_count": 14,
   "metadata": {},
   "outputs": [
    {
     "name": "stderr",
     "output_type": "stream",
     "text": [
      "/var/folders/g0/3bjf7z4x4k12lbl4918x2pn00000gn/T/ipykernel_5971/2925328854.py:3: SettingWithCopyWarning: \n",
      "A value is trying to be set on a copy of a slice from a DataFrame\n",
      "\n",
      "See the caveats in the documentation: https://pandas.pydata.org/pandas-docs/stable/user_guide/indexing.html#returning-a-view-versus-a-copy\n",
      "  right_copy.drop(columns=['Allergy', 'bodyPercent', 'Tanning', 'Acidic', 'NewBodyPercent', 'NewTanning', 'NewAcidic', 'year', 'price'], inplace=True)\n"
     ]
    }
   ],
   "source": [
    "inner_join_rhone_valley = inner_join(leftdf=rhone_valley_wines_f, rightdf=rhone_valley_wines_o)"
   ]
  },
  {
   "cell_type": "code",
   "execution_count": 15,
   "metadata": {},
   "outputs": [
    {
     "data": {
      "text/plain": [
       "(382, 15)"
      ]
     },
     "execution_count": 15,
     "metadata": {},
     "output_type": "execute_result"
    }
   ],
   "source": [
    "inner_join_rhone_valley.shape"
   ]
  },
  {
   "cell_type": "code",
   "execution_count": 16,
   "metadata": {},
   "outputs": [],
   "source": [
    "inner_join_rhone_valley.to_csv('./Data/wine_RhoneValley_innerjoin.csv', index_label=False)"
   ]
  },
  {
   "cell_type": "code",
   "execution_count": null,
   "metadata": {},
   "outputs": [],
   "source": []
  }
 ],
 "metadata": {
  "kernelspec": {
   "display_name": "base",
   "language": "python",
   "name": "python3"
  },
  "language_info": {
   "codemirror_mode": {
    "name": "ipython",
    "version": 3
   },
   "file_extension": ".py",
   "mimetype": "text/x-python",
   "name": "python",
   "nbconvert_exporter": "python",
   "pygments_lexer": "ipython3",
   "version": "3.11.7"
  }
 },
 "nbformat": 4,
 "nbformat_minor": 2
}
