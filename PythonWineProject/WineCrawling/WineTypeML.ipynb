{
 "cells": [
  {
   "cell_type": "code",
   "execution_count": 1,
   "metadata": {},
   "outputs": [],
   "source": [
    "import pandas as pd\n",
    "import numpy as np\n",
    "import matplotlib.pyplot as plt\n",
    "import seaborn as sns"
   ]
  },
  {
   "cell_type": "code",
   "execution_count": 2,
   "metadata": {},
   "outputs": [],
   "source": [
    "wines = pd.read_csv('./Data/wines_feature_scale2.csv')"
   ]
  },
  {
   "cell_type": "code",
   "execution_count": 3,
   "metadata": {},
   "outputs": [
    {
     "name": "stdout",
     "output_type": "stream",
     "text": [
      "<class 'pandas.core.frame.DataFrame'>\n",
      "Int64Index: 2403 entries, 0 to 2402\n",
      "Data columns (total 24 columns):\n",
      " #   Column          Non-Null Count  Dtype  \n",
      "---  ------          --------------  -----  \n",
      " 0   wine_image      2403 non-null   object \n",
      " 1   name            2403 non-null   object \n",
      " 2   compareFoods    2403 non-null   object \n",
      " 3   rating          2403 non-null   float64\n",
      " 4   about_wine      2403 non-null   object \n",
      " 5   Winery          2403 non-null   object \n",
      " 6   Type            2403 non-null   object \n",
      " 7   Grape_Type      2403 non-null   object \n",
      " 8   Alcohol         2403 non-null   object \n",
      " 9   year            2403 non-null   int64  \n",
      " 10  price           2403 non-null   object \n",
      " 11  bodyPercent     2403 non-null   object \n",
      " 12  Tanning         1777 non-null   object \n",
      " 13  Sugar           2403 non-null   object \n",
      " 14  Acidic          2403 non-null   object \n",
      " 15  NewBodyPercent  2403 non-null   float64\n",
      " 16  NewTanning      1777 non-null   float64\n",
      " 17  NewDryOrSweet   2403 non-null   float64\n",
      " 18  NewAcidic       2403 non-null   float64\n",
      " 19  Region          2403 non-null   object \n",
      " 20  SweetnessScale  2403 non-null   float64\n",
      " 21  AcidicScale     2403 non-null   float64\n",
      " 22  BodyScale       2403 non-null   float64\n",
      " 23  style           2403 non-null   object \n",
      "dtypes: float64(8), int64(1), object(15)\n",
      "memory usage: 469.3+ KB\n"
     ]
    }
   ],
   "source": [
    "wines.info()"
   ]
  },
  {
   "cell_type": "code",
   "execution_count": 4,
   "metadata": {},
   "outputs": [],
   "source": [
    "wines_target = wines.Type\n",
    "wines_feature = wines[['SweetnessScale', 'AcidicScale', 'BodyScale']]"
   ]
  },
  {
   "cell_type": "code",
   "execution_count": 5,
   "metadata": {},
   "outputs": [],
   "source": [
    "# train과 target\n",
    "from sklearn.model_selection import train_test_split\n",
    "\n",
    "train_feature, test_feature, train_target, test_target = \\\n",
    "    train_test_split(wines_feature, wines_target, test_size=0.2)"
   ]
  },
  {
   "cell_type": "code",
   "execution_count": 6,
   "metadata": {},
   "outputs": [],
   "source": [
    "# 랜덤포레스트\n",
    "from sklearn.ensemble import RandomForestClassifier\n",
    "from sklearn.model_selection import cross_validate"
   ]
  },
  {
   "cell_type": "code",
   "execution_count": 7,
   "metadata": {},
   "outputs": [
    {
     "name": "stdout",
     "output_type": "stream",
     "text": [
      "1.0 0.9604491341991341\n"
     ]
    }
   ],
   "source": [
    "rf = RandomForestClassifier(\n",
    "    n_jobs=-1,\n",
    ")\n",
    "\n",
    "scores = cross_validate(rf, train_feature, train_target, return_train_score=True, n_jobs=-1)\n",
    "\n",
    "print(np.mean(scores['train_score']), np.mean(scores['test_score']))"
   ]
  },
  {
   "cell_type": "code",
   "execution_count": 8,
   "metadata": {},
   "outputs": [
    {
     "name": "stdout",
     "output_type": "stream",
     "text": [
      "[0.1345245 0.5183658 0.3471097]\n"
     ]
    }
   ],
   "source": [
    "# 주요 Feature 확인\n",
    "rf.fit(train_feature, train_target)\n",
    "print(rf.feature_importances_)"
   ]
  },
  {
   "cell_type": "code",
   "execution_count": null,
   "metadata": {},
   "outputs": [],
   "source": []
  }
 ],
 "metadata": {
  "kernelspec": {
   "display_name": "base",
   "language": "python",
   "name": "python3"
  },
  "language_info": {
   "codemirror_mode": {
    "name": "ipython",
    "version": 3
   },
   "file_extension": ".py",
   "mimetype": "text/x-python",
   "name": "python",
   "nbconvert_exporter": "python",
   "pygments_lexer": "ipython3",
   "version": "3.11.7"
  }
 },
 "nbformat": 4,
 "nbformat_minor": 2
}
