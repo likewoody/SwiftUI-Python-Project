{
 "cells": [
  {
   "cell_type": "code",
   "execution_count": 1,
   "metadata": {},
   "outputs": [],
   "source": [
    "# 셀레니움\n",
    "from selenium import webdriver\n",
    "from selenium.webdriver.chrome.service import Service\n",
    "from webdriver_manager.chrome import ChromeDriverManager\n",
    "from selenium.webdriver.common.by import By"
   ]
  },
  {
   "cell_type": "code",
   "execution_count": 2,
   "metadata": {},
   "outputs": [],
   "source": [
    "# 타이머\n",
    "import time"
   ]
  },
  {
   "cell_type": "code",
   "execution_count": 3,
   "metadata": {},
   "outputs": [],
   "source": [
    "# 뷰티풀수프\n",
    "from bs4 import BeautifulSoup\n",
    "import urllib.request as req"
   ]
  },
  {
   "cell_type": "code",
   "execution_count": 4,
   "metadata": {},
   "outputs": [],
   "source": [
    "import pandas as pd"
   ]
  },
  {
   "cell_type": "code",
   "execution_count": 14,
   "metadata": {},
   "outputs": [],
   "source": [
    "# Chrome Browser와 Chrome Driver Version 확인하기 \n",
    "chrome_options = webdriver.ChromeOptions()\n",
    "driver = webdriver.Chrome(service=Service(ChromeDriverManager().install()),options=chrome_options)\n",
    "# White Rhone Valley × Bordeaux\n",
    "driver.get('https://www.vivino.com/explore?e=eJwdi0EKgzAUBW_zliURt29R9AbFlYgkMSmhjUp-sPX2Bjczs5mU2T4apLhSIZk_tVIK7uTwgqvosVPjHXiYHH0xX2x54eLFYbMnrZcy79F9BL8yTmzqKtUhQ9g9cecFRo0g-Q%3D%3D')"
   ]
  },
  {
   "cell_type": "code",
   "execution_count": 15,
   "metadata": {},
   "outputs": [],
   "source": [
    "# 조회버튼 클릭 \n",
    "# click Ship to\n",
    "xpath = '//*[@id=\"navigation-container\"]/div/nav/div[2]/div[1]'\n",
    "element_rest_find = driver.find_element(By.XPATH, xpath).click()\n",
    "\n",
    "# click USA\n",
    "xpath = '//*[@id=\"navigation-container\"]/div/nav/div[2]/div[1]/div[2]/div[1]/ul/li[23]'\n",
    "element_rest_find = driver.find_element(By.XPATH, xpath).click()\n",
    "time.sleep(0.3)\n",
    "\n",
    "# click to turn on Rhone Valley button\n",
    "xpath = '//*[@class=\"pill__text--24qI1\"][normalize-space(text())=\"Rhone Valley\"]'\n",
    "driver.find_element(By.XPATH, xpath).click()\n",
    "\n",
    "time.sleep(0.3)"
   ]
  },
  {
   "cell_type": "code",
   "execution_count": 16,
   "metadata": {},
   "outputs": [
    {
     "ename": "NoSuchElementException",
     "evalue": "Message: no such element: Unable to locate element: {\"method\":\"xpath\",\"selector\":\"//*[@class=\"explorerPage__results--3wqLw\"]/div/div[15]\"}\n  (Session info: chrome=125.0.6422.141); For documentation on this error, please visit: https://www.selenium.dev/documentation/webdriver/troubleshooting/errors#no-such-element-exception\nStacktrace:\n0   chromedriver                        0x00000001026824c8 chromedriver + 4302024\n1   chromedriver                        0x000000010267ae10 chromedriver + 4271632\n2   chromedriver                        0x00000001022ac19c chromedriver + 278940\n3   chromedriver                        0x00000001022ee2c4 chromedriver + 549572\n4   chromedriver                        0x0000000102326c5c chromedriver + 781404\n5   chromedriver                        0x00000001022e3004 chromedriver + 503812\n6   chromedriver                        0x00000001022e39ec chromedriver + 506348\n7   chromedriver                        0x000000010264a510 chromedriver + 4072720\n8   chromedriver                        0x000000010264efbc chromedriver + 4091836\n9   chromedriver                        0x0000000102631754 chromedriver + 3970900\n10  chromedriver                        0x000000010264f8a4 chromedriver + 4094116\n11  chromedriver                        0x00000001026246d4 chromedriver + 3917524\n12  chromedriver                        0x000000010266cb08 chromedriver + 4213512\n13  chromedriver                        0x000000010266cc84 chromedriver + 4213892\n14  chromedriver                        0x000000010267aa08 chromedriver + 4270600\n15  libsystem_pthread.dylib             0x0000000180592f94 _pthread_start + 136\n16  libsystem_pthread.dylib             0x000000018058dd34 thread_start + 8\n",
     "output_type": "error",
     "traceback": [
      "\u001b[0;31m---------------------------------------------------------------------------\u001b[0m",
      "\u001b[0;31mNoSuchElementException\u001b[0m                    Traceback (most recent call last)",
      "Cell \u001b[0;32mIn[16], line 5\u001b[0m\n\u001b[1;32m      3\u001b[0m time\u001b[38;5;241m.\u001b[39msleep(\u001b[38;5;241m3\u001b[39m)\n\u001b[1;32m      4\u001b[0m xpath \u001b[38;5;241m=\u001b[39m \u001b[38;5;124mf\u001b[39m\u001b[38;5;124m'\u001b[39m\u001b[38;5;124m//*[@class=\u001b[39m\u001b[38;5;124m\"\u001b[39m\u001b[38;5;124mexplorerPage__results--3wqLw\u001b[39m\u001b[38;5;124m\"\u001b[39m\u001b[38;5;124m]/div/div[\u001b[39m\u001b[38;5;132;01m{\u001b[39;00mi\u001b[38;5;132;01m}\u001b[39;00m\u001b[38;5;124m]\u001b[39m\u001b[38;5;124m'\u001b[39m\n\u001b[0;32m----> 5\u001b[0m driver\u001b[38;5;241m.\u001b[39mfind_element(By\u001b[38;5;241m.\u001b[39mXPATH, xpath)\u001b[38;5;241m.\u001b[39mclick()\n\u001b[1;32m      6\u001b[0m time\u001b[38;5;241m.\u001b[39msleep(\u001b[38;5;241m1.5\u001b[39m)\n\u001b[1;32m      7\u001b[0m driver\u001b[38;5;241m.\u001b[39mback()\n",
      "File \u001b[0;32m/opt/anaconda3/lib/python3.11/site-packages/selenium/webdriver/remote/webdriver.py:741\u001b[0m, in \u001b[0;36mWebDriver.find_element\u001b[0;34m(self, by, value)\u001b[0m\n\u001b[1;32m    738\u001b[0m     by \u001b[38;5;241m=\u001b[39m By\u001b[38;5;241m.\u001b[39mCSS_SELECTOR\n\u001b[1;32m    739\u001b[0m     value \u001b[38;5;241m=\u001b[39m \u001b[38;5;124mf\u001b[39m\u001b[38;5;124m'\u001b[39m\u001b[38;5;124m[name=\u001b[39m\u001b[38;5;124m\"\u001b[39m\u001b[38;5;132;01m{\u001b[39;00mvalue\u001b[38;5;132;01m}\u001b[39;00m\u001b[38;5;124m\"\u001b[39m\u001b[38;5;124m]\u001b[39m\u001b[38;5;124m'\u001b[39m\n\u001b[0;32m--> 741\u001b[0m \u001b[38;5;28;01mreturn\u001b[39;00m \u001b[38;5;28mself\u001b[39m\u001b[38;5;241m.\u001b[39mexecute(Command\u001b[38;5;241m.\u001b[39mFIND_ELEMENT, {\u001b[38;5;124m\"\u001b[39m\u001b[38;5;124musing\u001b[39m\u001b[38;5;124m\"\u001b[39m: by, \u001b[38;5;124m\"\u001b[39m\u001b[38;5;124mvalue\u001b[39m\u001b[38;5;124m\"\u001b[39m: value})[\u001b[38;5;124m\"\u001b[39m\u001b[38;5;124mvalue\u001b[39m\u001b[38;5;124m\"\u001b[39m]\n",
      "File \u001b[0;32m/opt/anaconda3/lib/python3.11/site-packages/selenium/webdriver/remote/webdriver.py:347\u001b[0m, in \u001b[0;36mWebDriver.execute\u001b[0;34m(self, driver_command, params)\u001b[0m\n\u001b[1;32m    345\u001b[0m response \u001b[38;5;241m=\u001b[39m \u001b[38;5;28mself\u001b[39m\u001b[38;5;241m.\u001b[39mcommand_executor\u001b[38;5;241m.\u001b[39mexecute(driver_command, params)\n\u001b[1;32m    346\u001b[0m \u001b[38;5;28;01mif\u001b[39;00m response:\n\u001b[0;32m--> 347\u001b[0m     \u001b[38;5;28mself\u001b[39m\u001b[38;5;241m.\u001b[39merror_handler\u001b[38;5;241m.\u001b[39mcheck_response(response)\n\u001b[1;32m    348\u001b[0m     response[\u001b[38;5;124m\"\u001b[39m\u001b[38;5;124mvalue\u001b[39m\u001b[38;5;124m\"\u001b[39m] \u001b[38;5;241m=\u001b[39m \u001b[38;5;28mself\u001b[39m\u001b[38;5;241m.\u001b[39m_unwrap_value(response\u001b[38;5;241m.\u001b[39mget(\u001b[38;5;124m\"\u001b[39m\u001b[38;5;124mvalue\u001b[39m\u001b[38;5;124m\"\u001b[39m, \u001b[38;5;28;01mNone\u001b[39;00m))\n\u001b[1;32m    349\u001b[0m     \u001b[38;5;28;01mreturn\u001b[39;00m response\n",
      "File \u001b[0;32m/opt/anaconda3/lib/python3.11/site-packages/selenium/webdriver/remote/errorhandler.py:229\u001b[0m, in \u001b[0;36mErrorHandler.check_response\u001b[0;34m(self, response)\u001b[0m\n\u001b[1;32m    227\u001b[0m         alert_text \u001b[38;5;241m=\u001b[39m value[\u001b[38;5;124m\"\u001b[39m\u001b[38;5;124malert\u001b[39m\u001b[38;5;124m\"\u001b[39m]\u001b[38;5;241m.\u001b[39mget(\u001b[38;5;124m\"\u001b[39m\u001b[38;5;124mtext\u001b[39m\u001b[38;5;124m\"\u001b[39m)\n\u001b[1;32m    228\u001b[0m     \u001b[38;5;28;01mraise\u001b[39;00m exception_class(message, screen, stacktrace, alert_text)  \u001b[38;5;66;03m# type: ignore[call-arg]  # mypy is not smart enough here\u001b[39;00m\n\u001b[0;32m--> 229\u001b[0m \u001b[38;5;28;01mraise\u001b[39;00m exception_class(message, screen, stacktrace)\n",
      "\u001b[0;31mNoSuchElementException\u001b[0m: Message: no such element: Unable to locate element: {\"method\":\"xpath\",\"selector\":\"//*[@class=\"explorerPage__results--3wqLw\"]/div/div[15]\"}\n  (Session info: chrome=125.0.6422.141); For documentation on this error, please visit: https://www.selenium.dev/documentation/webdriver/troubleshooting/errors#no-such-element-exception\nStacktrace:\n0   chromedriver                        0x00000001026824c8 chromedriver + 4302024\n1   chromedriver                        0x000000010267ae10 chromedriver + 4271632\n2   chromedriver                        0x00000001022ac19c chromedriver + 278940\n3   chromedriver                        0x00000001022ee2c4 chromedriver + 549572\n4   chromedriver                        0x0000000102326c5c chromedriver + 781404\n5   chromedriver                        0x00000001022e3004 chromedriver + 503812\n6   chromedriver                        0x00000001022e39ec chromedriver + 506348\n7   chromedriver                        0x000000010264a510 chromedriver + 4072720\n8   chromedriver                        0x000000010264efbc chromedriver + 4091836\n9   chromedriver                        0x0000000102631754 chromedriver + 3970900\n10  chromedriver                        0x000000010264f8a4 chromedriver + 4094116\n11  chromedriver                        0x00000001026246d4 chromedriver + 3917524\n12  chromedriver                        0x000000010266cb08 chromedriver + 4213512\n13  chromedriver                        0x000000010266cc84 chromedriver + 4213892\n14  chromedriver                        0x000000010267aa08 chromedriver + 4270600\n15  libsystem_pthread.dylib             0x0000000180592f94 _pthread_start + 136\n16  libsystem_pthread.dylib             0x000000018058dd34 thread_start + 8\n"
     ]
    }
   ],
   "source": [
    "# click to Wine Product Page\n",
    "for i in range(1, 100):\n",
    "    time.sleep(3)\n",
    "    xpath = f'//*[@class=\"explorerPage__results--3wqLw\"]/div/div[{i}]'\n",
    "    driver.find_element(By.XPATH, xpath).click()\n",
    "    time.sleep(1.5)\n",
    "    driver.back()"
   ]
  },
  {
   "cell_type": "code",
   "execution_count": 7,
   "metadata": {},
   "outputs": [
    {
     "data": {
      "text/plain": [
       "'2787'"
      ]
     },
     "execution_count": 7,
     "metadata": {},
     "output_type": "execute_result"
    }
   ],
   "source": [
    "# 검색된 와인의 개수\n",
    "wine_count = driver.find_element(By.XPATH, '//*[@id=\"explore-page-app\"]/div/div/h2').text.split()[1]\n",
    "wine_count"
   ]
  },
  {
   "cell_type": "markdown",
   "metadata": {},
   "source": [
    "//*[@id=\"explore-page-app\"]/div/div/div[2]/div[1]/div[1]/div"
   ]
  },
  {
   "cell_type": "code",
   "execution_count": 13,
   "metadata": {},
   "outputs": [
    {
     "ename": "NoSuchElementException",
     "evalue": "Message: no such element: Unable to locate element: {\"method\":\"xpath\",\"selector\":\"//*[@class=\"explorerPage__results—3wqLw\"]/div/div[1]\"}\n  (Session info: chrome=125.0.6422.141); For documentation on this error, please visit: https://www.selenium.dev/documentation/webdriver/troubleshooting/errors#no-such-element-exception\nStacktrace:\n0   chromedriver                        0x0000000102c924c8 chromedriver + 4302024\n1   chromedriver                        0x0000000102c8ae10 chromedriver + 4271632\n2   chromedriver                        0x00000001028bc19c chromedriver + 278940\n3   chromedriver                        0x00000001028fe2c4 chromedriver + 549572\n4   chromedriver                        0x0000000102936c5c chromedriver + 781404\n5   chromedriver                        0x00000001028f3004 chromedriver + 503812\n6   chromedriver                        0x00000001028f39ec chromedriver + 506348\n7   chromedriver                        0x0000000102c5a510 chromedriver + 4072720\n8   chromedriver                        0x0000000102c5efbc chromedriver + 4091836\n9   chromedriver                        0x0000000102c41754 chromedriver + 3970900\n10  chromedriver                        0x0000000102c5f8a4 chromedriver + 4094116\n11  chromedriver                        0x0000000102c346d4 chromedriver + 3917524\n12  chromedriver                        0x0000000102c7cb08 chromedriver + 4213512\n13  chromedriver                        0x0000000102c7cc84 chromedriver + 4213892\n14  chromedriver                        0x0000000102c8aa08 chromedriver + 4270600\n15  libsystem_pthread.dylib             0x0000000180592f94 _pthread_start + 136\n16  libsystem_pthread.dylib             0x000000018058dd34 thread_start + 8\n",
     "output_type": "error",
     "traceback": [
      "\u001b[0;31m---------------------------------------------------------------------------\u001b[0m",
      "\u001b[0;31mNoSuchElementException\u001b[0m                    Traceback (most recent call last)",
      "Cell \u001b[0;32mIn[13], line 5\u001b[0m\n\u001b[1;32m      3\u001b[0m time\u001b[38;5;241m.\u001b[39msleep(\u001b[38;5;241m3\u001b[39m)\n\u001b[1;32m      4\u001b[0m xpath \u001b[38;5;241m=\u001b[39m \u001b[38;5;124mf\u001b[39m\u001b[38;5;124m'\u001b[39m\u001b[38;5;124m//*[@class=\u001b[39m\u001b[38;5;124m\"\u001b[39m\u001b[38;5;124mexplorerPage__results—3wqLw\u001b[39m\u001b[38;5;124m\"\u001b[39m\u001b[38;5;124m]/div/div[\u001b[39m\u001b[38;5;132;01m{\u001b[39;00mi\u001b[38;5;132;01m}\u001b[39;00m\u001b[38;5;124m]\u001b[39m\u001b[38;5;124m'\u001b[39m\n\u001b[0;32m----> 5\u001b[0m driver\u001b[38;5;241m.\u001b[39mfind_element(By\u001b[38;5;241m.\u001b[39mXPATH, xpath)\u001b[38;5;241m.\u001b[39mclick()\n\u001b[1;32m      7\u001b[0m time\u001b[38;5;241m.\u001b[39msleep(\u001b[38;5;241m1.5\u001b[39m)\n\u001b[1;32m      8\u001b[0m driver\u001b[38;5;241m.\u001b[39mback()\n",
      "File \u001b[0;32m/opt/anaconda3/lib/python3.11/site-packages/selenium/webdriver/remote/webdriver.py:741\u001b[0m, in \u001b[0;36mWebDriver.find_element\u001b[0;34m(self, by, value)\u001b[0m\n\u001b[1;32m    738\u001b[0m     by \u001b[38;5;241m=\u001b[39m By\u001b[38;5;241m.\u001b[39mCSS_SELECTOR\n\u001b[1;32m    739\u001b[0m     value \u001b[38;5;241m=\u001b[39m \u001b[38;5;124mf\u001b[39m\u001b[38;5;124m'\u001b[39m\u001b[38;5;124m[name=\u001b[39m\u001b[38;5;124m\"\u001b[39m\u001b[38;5;132;01m{\u001b[39;00mvalue\u001b[38;5;132;01m}\u001b[39;00m\u001b[38;5;124m\"\u001b[39m\u001b[38;5;124m]\u001b[39m\u001b[38;5;124m'\u001b[39m\n\u001b[0;32m--> 741\u001b[0m \u001b[38;5;28;01mreturn\u001b[39;00m \u001b[38;5;28mself\u001b[39m\u001b[38;5;241m.\u001b[39mexecute(Command\u001b[38;5;241m.\u001b[39mFIND_ELEMENT, {\u001b[38;5;124m\"\u001b[39m\u001b[38;5;124musing\u001b[39m\u001b[38;5;124m\"\u001b[39m: by, \u001b[38;5;124m\"\u001b[39m\u001b[38;5;124mvalue\u001b[39m\u001b[38;5;124m\"\u001b[39m: value})[\u001b[38;5;124m\"\u001b[39m\u001b[38;5;124mvalue\u001b[39m\u001b[38;5;124m\"\u001b[39m]\n",
      "File \u001b[0;32m/opt/anaconda3/lib/python3.11/site-packages/selenium/webdriver/remote/webdriver.py:347\u001b[0m, in \u001b[0;36mWebDriver.execute\u001b[0;34m(self, driver_command, params)\u001b[0m\n\u001b[1;32m    345\u001b[0m response \u001b[38;5;241m=\u001b[39m \u001b[38;5;28mself\u001b[39m\u001b[38;5;241m.\u001b[39mcommand_executor\u001b[38;5;241m.\u001b[39mexecute(driver_command, params)\n\u001b[1;32m    346\u001b[0m \u001b[38;5;28;01mif\u001b[39;00m response:\n\u001b[0;32m--> 347\u001b[0m     \u001b[38;5;28mself\u001b[39m\u001b[38;5;241m.\u001b[39merror_handler\u001b[38;5;241m.\u001b[39mcheck_response(response)\n\u001b[1;32m    348\u001b[0m     response[\u001b[38;5;124m\"\u001b[39m\u001b[38;5;124mvalue\u001b[39m\u001b[38;5;124m\"\u001b[39m] \u001b[38;5;241m=\u001b[39m \u001b[38;5;28mself\u001b[39m\u001b[38;5;241m.\u001b[39m_unwrap_value(response\u001b[38;5;241m.\u001b[39mget(\u001b[38;5;124m\"\u001b[39m\u001b[38;5;124mvalue\u001b[39m\u001b[38;5;124m\"\u001b[39m, \u001b[38;5;28;01mNone\u001b[39;00m))\n\u001b[1;32m    349\u001b[0m     \u001b[38;5;28;01mreturn\u001b[39;00m response\n",
      "File \u001b[0;32m/opt/anaconda3/lib/python3.11/site-packages/selenium/webdriver/remote/errorhandler.py:229\u001b[0m, in \u001b[0;36mErrorHandler.check_response\u001b[0;34m(self, response)\u001b[0m\n\u001b[1;32m    227\u001b[0m         alert_text \u001b[38;5;241m=\u001b[39m value[\u001b[38;5;124m\"\u001b[39m\u001b[38;5;124malert\u001b[39m\u001b[38;5;124m\"\u001b[39m]\u001b[38;5;241m.\u001b[39mget(\u001b[38;5;124m\"\u001b[39m\u001b[38;5;124mtext\u001b[39m\u001b[38;5;124m\"\u001b[39m)\n\u001b[1;32m    228\u001b[0m     \u001b[38;5;28;01mraise\u001b[39;00m exception_class(message, screen, stacktrace, alert_text)  \u001b[38;5;66;03m# type: ignore[call-arg]  # mypy is not smart enough here\u001b[39;00m\n\u001b[0;32m--> 229\u001b[0m \u001b[38;5;28;01mraise\u001b[39;00m exception_class(message, screen, stacktrace)\n",
      "\u001b[0;31mNoSuchElementException\u001b[0m: Message: no such element: Unable to locate element: {\"method\":\"xpath\",\"selector\":\"//*[@class=\"explorerPage__results—3wqLw\"]/div/div[1]\"}\n  (Session info: chrome=125.0.6422.141); For documentation on this error, please visit: https://www.selenium.dev/documentation/webdriver/troubleshooting/errors#no-such-element-exception\nStacktrace:\n0   chromedriver                        0x0000000102c924c8 chromedriver + 4302024\n1   chromedriver                        0x0000000102c8ae10 chromedriver + 4271632\n2   chromedriver                        0x00000001028bc19c chromedriver + 278940\n3   chromedriver                        0x00000001028fe2c4 chromedriver + 549572\n4   chromedriver                        0x0000000102936c5c chromedriver + 781404\n5   chromedriver                        0x00000001028f3004 chromedriver + 503812\n6   chromedriver                        0x00000001028f39ec chromedriver + 506348\n7   chromedriver                        0x0000000102c5a510 chromedriver + 4072720\n8   chromedriver                        0x0000000102c5efbc chromedriver + 4091836\n9   chromedriver                        0x0000000102c41754 chromedriver + 3970900\n10  chromedriver                        0x0000000102c5f8a4 chromedriver + 4094116\n11  chromedriver                        0x0000000102c346d4 chromedriver + 3917524\n12  chromedriver                        0x0000000102c7cb08 chromedriver + 4213512\n13  chromedriver                        0x0000000102c7cc84 chromedriver + 4213892\n14  chromedriver                        0x0000000102c8aa08 chromedriver + 4270600\n15  libsystem_pthread.dylib             0x0000000180592f94 _pthread_start + 136\n16  libsystem_pthread.dylib             0x000000018058dd34 thread_start + 8\n"
     ]
    }
   ],
   "source": [
    "# click to Wine Product Page\n",
    "for i in range(1, 100):\n",
    "    time.sleep(3)\n",
    "    xpath = f'//*[@class=\"explorerPage__results—3wqLw\"]/div/div[{i}]'\n",
    "    driver.find_element(By.XPATH, xpath).click()\n",
    "\n",
    "    time.sleep(1.5)\n",
    "    driver.back()"
   ]
  },
  {
   "cell_type": "markdown",
   "metadata": {},
   "source": [
    "#### 첫번째 와인 Path\n",
    "//*[@id=\"explore-page-app\"]/div/div/div[2]/div[2]/div[1]/div[1]/div"
   ]
  },
  {
   "cell_type": "code",
   "execution_count": 97,
   "metadata": {},
   "outputs": [],
   "source": [
    "xpath = '//*[@id=\"explore-page-app\"]/div/div/div[2]/div[2]/div[1]/div[1]/div'   # 마지막에서 두번째 div[]의 숫자가 와인 seq\n",
    "element_rest_find = driver.find_element(By.XPATH, xpath).click()"
   ]
  },
  {
   "cell_type": "code",
   "execution_count": 98,
   "metadata": {},
   "outputs": [],
   "source": [
    "driver.back()"
   ]
  },
  {
   "cell_type": "code",
   "execution_count": 103,
   "metadata": {},
   "outputs": [],
   "source": [
    "xpath = '//*[@id=\"explore-page-app\"]/div/div/div[2]/div[2]/div[1]/div[2]/div'   # 마지막에서 두번째 div[]의 숫자가 와인 seq\n",
    "element_rest_find = driver.find_element(By.XPATH, xpath).click()"
   ]
  },
  {
   "cell_type": "code",
   "execution_count": 99,
   "metadata": {},
   "outputs": [
    {
     "ename": "NoSuchElementException",
     "evalue": "Message: no such element: Unable to locate element: {\"method\":\"xpath\",\"selector\":\"/html/body/div[3]/div[5]/div/div[1]/div[2]/div[1]/div/h1/span[2]/a\"}\n  (Session info: chrome=125.0.6422.141); For documentation on this error, please visit: https://www.selenium.dev/documentation/webdriver/troubleshooting/errors#no-such-element-exception\nStacktrace:\n0   chromedriver                        0x0000000102e1e4c8 chromedriver + 4302024\n1   chromedriver                        0x0000000102e16e10 chromedriver + 4271632\n2   chromedriver                        0x0000000102a4819c chromedriver + 278940\n3   chromedriver                        0x0000000102a8a2c4 chromedriver + 549572\n4   chromedriver                        0x0000000102ac2c5c chromedriver + 781404\n5   chromedriver                        0x0000000102a7f004 chromedriver + 503812\n6   chromedriver                        0x0000000102a7f9ec chromedriver + 506348\n7   chromedriver                        0x0000000102de6510 chromedriver + 4072720\n8   chromedriver                        0x0000000102deafbc chromedriver + 4091836\n9   chromedriver                        0x0000000102dcd754 chromedriver + 3970900\n10  chromedriver                        0x0000000102deb8a4 chromedriver + 4094116\n11  chromedriver                        0x0000000102dc06d4 chromedriver + 3917524\n12  chromedriver                        0x0000000102e08b08 chromedriver + 4213512\n13  chromedriver                        0x0000000102e08c84 chromedriver + 4213892\n14  chromedriver                        0x0000000102e16a08 chromedriver + 4270600\n15  libsystem_pthread.dylib             0x0000000184c8af94 _pthread_start + 136\n16  libsystem_pthread.dylib             0x0000000184c85d34 thread_start + 8\n",
     "output_type": "error",
     "traceback": [
      "\u001b[0;31m---------------------------------------------------------------------------\u001b[0m",
      "\u001b[0;31mNoSuchElementException\u001b[0m                    Traceback (most recent call last)",
      "Cell \u001b[0;32mIn[99], line 1\u001b[0m\n\u001b[0;32m----> 1\u001b[0m wine_name \u001b[38;5;241m=\u001b[39m driver\u001b[38;5;241m.\u001b[39mfind_element(By\u001b[38;5;241m.\u001b[39mXPATH, \u001b[38;5;124m'\u001b[39m\u001b[38;5;124m/html/body/div[3]/div[5]/div/div[1]/div[2]/div[1]/div/h1/span[2]/a\u001b[39m\u001b[38;5;124m'\u001b[39m)\u001b[38;5;241m.\u001b[39mtext\n\u001b[1;32m      2\u001b[0m wine_name\n",
      "File \u001b[0;32m/opt/anaconda3/lib/python3.11/site-packages/selenium/webdriver/remote/webdriver.py:741\u001b[0m, in \u001b[0;36mWebDriver.find_element\u001b[0;34m(self, by, value)\u001b[0m\n\u001b[1;32m    738\u001b[0m     by \u001b[38;5;241m=\u001b[39m By\u001b[38;5;241m.\u001b[39mCSS_SELECTOR\n\u001b[1;32m    739\u001b[0m     value \u001b[38;5;241m=\u001b[39m \u001b[38;5;124mf\u001b[39m\u001b[38;5;124m'\u001b[39m\u001b[38;5;124m[name=\u001b[39m\u001b[38;5;124m\"\u001b[39m\u001b[38;5;132;01m{\u001b[39;00mvalue\u001b[38;5;132;01m}\u001b[39;00m\u001b[38;5;124m\"\u001b[39m\u001b[38;5;124m]\u001b[39m\u001b[38;5;124m'\u001b[39m\n\u001b[0;32m--> 741\u001b[0m \u001b[38;5;28;01mreturn\u001b[39;00m \u001b[38;5;28mself\u001b[39m\u001b[38;5;241m.\u001b[39mexecute(Command\u001b[38;5;241m.\u001b[39mFIND_ELEMENT, {\u001b[38;5;124m\"\u001b[39m\u001b[38;5;124musing\u001b[39m\u001b[38;5;124m\"\u001b[39m: by, \u001b[38;5;124m\"\u001b[39m\u001b[38;5;124mvalue\u001b[39m\u001b[38;5;124m\"\u001b[39m: value})[\u001b[38;5;124m\"\u001b[39m\u001b[38;5;124mvalue\u001b[39m\u001b[38;5;124m\"\u001b[39m]\n",
      "File \u001b[0;32m/opt/anaconda3/lib/python3.11/site-packages/selenium/webdriver/remote/webdriver.py:347\u001b[0m, in \u001b[0;36mWebDriver.execute\u001b[0;34m(self, driver_command, params)\u001b[0m\n\u001b[1;32m    345\u001b[0m response \u001b[38;5;241m=\u001b[39m \u001b[38;5;28mself\u001b[39m\u001b[38;5;241m.\u001b[39mcommand_executor\u001b[38;5;241m.\u001b[39mexecute(driver_command, params)\n\u001b[1;32m    346\u001b[0m \u001b[38;5;28;01mif\u001b[39;00m response:\n\u001b[0;32m--> 347\u001b[0m     \u001b[38;5;28mself\u001b[39m\u001b[38;5;241m.\u001b[39merror_handler\u001b[38;5;241m.\u001b[39mcheck_response(response)\n\u001b[1;32m    348\u001b[0m     response[\u001b[38;5;124m\"\u001b[39m\u001b[38;5;124mvalue\u001b[39m\u001b[38;5;124m\"\u001b[39m] \u001b[38;5;241m=\u001b[39m \u001b[38;5;28mself\u001b[39m\u001b[38;5;241m.\u001b[39m_unwrap_value(response\u001b[38;5;241m.\u001b[39mget(\u001b[38;5;124m\"\u001b[39m\u001b[38;5;124mvalue\u001b[39m\u001b[38;5;124m\"\u001b[39m, \u001b[38;5;28;01mNone\u001b[39;00m))\n\u001b[1;32m    349\u001b[0m     \u001b[38;5;28;01mreturn\u001b[39;00m response\n",
      "File \u001b[0;32m/opt/anaconda3/lib/python3.11/site-packages/selenium/webdriver/remote/errorhandler.py:229\u001b[0m, in \u001b[0;36mErrorHandler.check_response\u001b[0;34m(self, response)\u001b[0m\n\u001b[1;32m    227\u001b[0m         alert_text \u001b[38;5;241m=\u001b[39m value[\u001b[38;5;124m\"\u001b[39m\u001b[38;5;124malert\u001b[39m\u001b[38;5;124m\"\u001b[39m]\u001b[38;5;241m.\u001b[39mget(\u001b[38;5;124m\"\u001b[39m\u001b[38;5;124mtext\u001b[39m\u001b[38;5;124m\"\u001b[39m)\n\u001b[1;32m    228\u001b[0m     \u001b[38;5;28;01mraise\u001b[39;00m exception_class(message, screen, stacktrace, alert_text)  \u001b[38;5;66;03m# type: ignore[call-arg]  # mypy is not smart enough here\u001b[39;00m\n\u001b[0;32m--> 229\u001b[0m \u001b[38;5;28;01mraise\u001b[39;00m exception_class(message, screen, stacktrace)\n",
      "\u001b[0;31mNoSuchElementException\u001b[0m: Message: no such element: Unable to locate element: {\"method\":\"xpath\",\"selector\":\"/html/body/div[3]/div[5]/div/div[1]/div[2]/div[1]/div/h1/span[2]/a\"}\n  (Session info: chrome=125.0.6422.141); For documentation on this error, please visit: https://www.selenium.dev/documentation/webdriver/troubleshooting/errors#no-such-element-exception\nStacktrace:\n0   chromedriver                        0x0000000102e1e4c8 chromedriver + 4302024\n1   chromedriver                        0x0000000102e16e10 chromedriver + 4271632\n2   chromedriver                        0x0000000102a4819c chromedriver + 278940\n3   chromedriver                        0x0000000102a8a2c4 chromedriver + 549572\n4   chromedriver                        0x0000000102ac2c5c chromedriver + 781404\n5   chromedriver                        0x0000000102a7f004 chromedriver + 503812\n6   chromedriver                        0x0000000102a7f9ec chromedriver + 506348\n7   chromedriver                        0x0000000102de6510 chromedriver + 4072720\n8   chromedriver                        0x0000000102deafbc chromedriver + 4091836\n9   chromedriver                        0x0000000102dcd754 chromedriver + 3970900\n10  chromedriver                        0x0000000102deb8a4 chromedriver + 4094116\n11  chromedriver                        0x0000000102dc06d4 chromedriver + 3917524\n12  chromedriver                        0x0000000102e08b08 chromedriver + 4213512\n13  chromedriver                        0x0000000102e08c84 chromedriver + 4213892\n14  chromedriver                        0x0000000102e16a08 chromedriver + 4270600\n15  libsystem_pthread.dylib             0x0000000184c8af94 _pthread_start + 136\n16  libsystem_pthread.dylib             0x0000000184c85d34 thread_start + 8\n"
     ]
    }
   ],
   "source": [
    "wine_name = driver.find_element(By.XPATH, '/html/body/div[3]/div[5]/div/div[1]/div[2]/div[1]/div/h1/span[2]/a').text\n",
    "wine_name"
   ]
  },
  {
   "cell_type": "code",
   "execution_count": 72,
   "metadata": {},
   "outputs": [
    {
     "data": {
      "text/plain": [
       "'2017'"
      ]
     },
     "execution_count": 72,
     "metadata": {},
     "output_type": "execute_result"
    }
   ],
   "source": [
    "wine_year = driver.find_element(By.XPATH, '/html/body/div[3]/div[5]/div/div[1]/div[2]/div[1]/div/h1/span[2]').text.split()[-1]\n",
    "wine_year"
   ]
  },
  {
   "cell_type": "code",
   "execution_count": 73,
   "metadata": {},
   "outputs": [
    {
     "data": {
      "text/plain": [
       "'Fait Main'"
      ]
     },
     "execution_count": 73,
     "metadata": {},
     "output_type": "execute_result"
    }
   ],
   "source": [
    "wine_winery = driver.find_element(By.XPATH, '//*[@id=\"wine-page-lower-section\"]/div[3]/div/div[3]/table/tbody/tr[1]/td/a').text\n",
    "wine_winery"
   ]
  },
  {
   "cell_type": "code",
   "execution_count": 74,
   "metadata": {},
   "outputs": [
    {
     "data": {
      "text/plain": [
       "['Cabernet Sauvignon', 'Cabernet Franc', 'Merlot']"
      ]
     },
     "execution_count": 74,
     "metadata": {},
     "output_type": "execute_result"
    }
   ],
   "source": [
    "wine_grapes_raw = driver.find_element(By.XPATH, '//*[@id=\"wine-page-lower-section\"]/div[3]/div/div[3]/table/tbody/tr[2]/td')\n",
    "wine_grapes_list =  wine_grapes_raw.find_elements(By.TAG_NAME, 'a')\n",
    "\n",
    "wine_grapes = [a.get_attribute('text') for a in wine_grapes_list]\n",
    "wine_grapes"
   ]
  },
  {
   "cell_type": "code",
   "execution_count": 68,
   "metadata": {},
   "outputs": [
    {
     "data": {
      "text/plain": [
       "['France',\n",
       " 'Bordeaux',\n",
       " 'Libournais',\n",
       " 'Saint-Émilion',\n",
       " 'Saint-Émilion Grand Cru']"
      ]
     },
     "execution_count": 68,
     "metadata": {},
     "output_type": "execute_result"
    }
   ],
   "source": [
    "wine_region_raw = driver.find_element(By.XPATH, '//*[@id=\"wine-page-lower-section\"]/div[3]/div/div[3]/table/tbody/tr[3]/td')\n",
    "wine_region_list = wine_region_raw.find_elements(By.TAG_NAME, 'a')\n",
    "\n",
    "wine_region = [a.get_attribute('text') for a in wine_region_list]\n",
    "wine_region"
   ]
  },
  {
   "cell_type": "code",
   "execution_count": 76,
   "metadata": {},
   "outputs": [
    {
     "data": {
      "text/plain": [
       "'Bordeaux Saint-Émilion'"
      ]
     },
     "execution_count": 76,
     "metadata": {},
     "output_type": "execute_result"
    }
   ],
   "source": [
    "wine_style = driver.find_element(By.XPATH, '//*[@id=\"wine-page-lower-section\"]/div[3]/div/div[3]/table/tbody/tr[4]/td/a').text\n",
    "wine_style"
   ]
  },
  {
   "cell_type": "code",
   "execution_count": 64,
   "metadata": {},
   "outputs": [
    {
     "data": {
      "text/plain": [
       "'$225'"
      ]
     },
     "execution_count": 64,
     "metadata": {},
     "output_type": "execute_result"
    }
   ],
   "source": [
    "# 와인의 원래 가격\n",
    "wine_price = driver.find_element(By.XPATH, '//*[@id=\"purchase-availability\"]/div[2]/div/div[1]/div[1]/span[2]').text\n",
    "wine_price"
   ]
  },
  {
   "cell_type": "code",
   "execution_count": 65,
   "metadata": {},
   "outputs": [
    {
     "data": {
      "text/plain": [
       "'4.5'"
      ]
     },
     "execution_count": 65,
     "metadata": {},
     "output_type": "execute_result"
    }
   ],
   "source": [
    "# 와인의 별점\n",
    "wine_rate = driver.find_element(By.XPATH, '//*[@id=\"wine-location-header\"]/div/div/div/div[2]/a/div/div[1]').text\n",
    "wine_rate"
   ]
  },
  {
   "cell_type": "code",
   "execution_count": 77,
   "metadata": {},
   "outputs": [
    {
     "data": {
      "text/plain": [
       "'15.5%'"
      ]
     },
     "execution_count": 77,
     "metadata": {},
     "output_type": "execute_result"
    }
   ],
   "source": [
    "# 와인의 알콜도수\n",
    "wine_alcohol_content = driver.find_element(By.XPATH, '//*[@id=\"wine-page-lower-section\"]/div[3]/div/div[3]/table/tbody/tr[5]/td/span').text\n",
    "wine_alcohol_content"
   ]
  }
 ],
 "metadata": {
  "kernelspec": {
   "display_name": "base",
   "language": "python",
   "name": "python3"
  },
  "language_info": {
   "codemirror_mode": {
    "name": "ipython",
    "version": 3
   },
   "file_extension": ".py",
   "mimetype": "text/x-python",
   "name": "python",
   "nbconvert_exporter": "python",
   "pygments_lexer": "ipython3",
   "version": "3.11.7"
  }
 },
 "nbformat": 4,
 "nbformat_minor": 2
}
