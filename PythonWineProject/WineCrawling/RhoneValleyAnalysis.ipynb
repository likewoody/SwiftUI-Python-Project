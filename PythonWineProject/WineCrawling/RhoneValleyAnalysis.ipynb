{
 "cells": [
  {
   "cell_type": "code",
   "execution_count": 1,
   "metadata": {},
   "outputs": [],
   "source": [
    "import pandas as pd\n",
    "import numpy as np\n",
    "import matplotlib.pyplot as plt"
   ]
  },
  {
   "cell_type": "code",
   "execution_count": 2,
   "metadata": {},
   "outputs": [],
   "source": [
    "from sklearn.preprocessing import MinMaxScaler"
   ]
  },
  {
   "cell_type": "code",
   "execution_count": 10,
   "metadata": {},
   "outputs": [],
   "source": [
    "rhone_valley_wines_f = pd.read_csv('./Data/wine_RhoneValley_rmDupl.csv').drop(columns='Unnamed: 0')"
   ]
  },
  {
   "cell_type": "code",
   "execution_count": 18,
   "metadata": {},
   "outputs": [],
   "source": [
    "rhone_valley_wines_o = pd.read_csv('./Data/French_red_white_wines2_re.csv')"
   ]
  },
  {
   "cell_type": "code",
   "execution_count": 19,
   "metadata": {},
   "outputs": [
    {
     "name": "stdout",
     "output_type": "stream",
     "text": [
      "<class 'pandas.core.frame.DataFrame'>\n",
      "RangeIndex: 385 entries, 0 to 384\n",
      "Data columns (total 7 columns):\n",
      " #   Column       Non-Null Count  Dtype \n",
      "---  ------       --------------  ----- \n",
      " 0   name         385 non-null    object\n",
      " 1   year         385 non-null    int64 \n",
      " 2   price        385 non-null    object\n",
      " 3   bodyPercent  385 non-null    object\n",
      " 4   Tanning      385 non-null    object\n",
      " 5   Sugar        385 non-null    object\n",
      " 6   Acidic       385 non-null    object\n",
      "dtypes: int64(1), object(6)\n",
      "memory usage: 21.2+ KB\n"
     ]
    }
   ],
   "source": [
    "rhone_valley_wines_f.info()"
   ]
  },
  {
   "cell_type": "code",
   "execution_count": 20,
   "metadata": {},
   "outputs": [
    {
     "name": "stdout",
     "output_type": "stream",
     "text": [
      "<class 'pandas.core.frame.DataFrame'>\n",
      "RangeIndex: 2593 entries, 0 to 2592\n",
      "Data columns (total 18 columns):\n",
      " #   Column          Non-Null Count  Dtype  \n",
      "---  ------          --------------  -----  \n",
      " 0   wine_image      2593 non-null   object \n",
      " 1   name            2593 non-null   object \n",
      " 2   year            2593 non-null   int64  \n",
      " 3   price           2593 non-null   object \n",
      " 4   bodyPercent     2593 non-null   object \n",
      " 5   Tanning         2593 non-null   object \n",
      " 6   Acidic          2593 non-null   object \n",
      " 7   compareFoods    2593 non-null   object \n",
      " 8   rating          2593 non-null   float64\n",
      " 9   about_wine      2593 non-null   object \n",
      " 10  Winery          2593 non-null   object \n",
      " 11  Type            2593 non-null   object \n",
      " 12  NewBodyPercent  2593 non-null   float64\n",
      " 13  NewTanning      2593 non-null   float64\n",
      " 14  NewAcidic       2593 non-null   float64\n",
      " 15  Grape_Type      2593 non-null   object \n",
      " 16  Alcohol         2593 non-null   object \n",
      " 17  Allergy         1896 non-null   object \n",
      "dtypes: float64(4), int64(1), object(13)\n",
      "memory usage: 364.8+ KB\n"
     ]
    }
   ],
   "source": [
    "rhone_valley_wines_o.info()"
   ]
  },
  {
   "cell_type": "code",
   "execution_count": 109,
   "metadata": {},
   "outputs": [],
   "source": [
    "rhone_valley_wines_o.drop_duplicates(inplace=True)"
   ]
  },
  {
   "cell_type": "code",
   "execution_count": 111,
   "metadata": {},
   "outputs": [
    {
     "data": {
      "text/plain": [
       "0       Château Beausejour (héritiers Duffau-Lagarross...\n",
       "1                   Château La Conseillante\\nPomerol 2018\n",
       "2                             Château Gazin\\nPomerol 2018\n",
       "3       Château Gruaud Larose\\nSaint-Julien (Grand Cru...\n",
       "4       Château Grand-Puy-Lacoste\\nPauillac (Grand Cru...\n",
       "                              ...                        \n",
       "2588    Clos Saint Jean\\nChateauneuf-du-Pape La Combe ...\n",
       "2589                Château Pesquie\\nVentoux Artemia 2019\n",
       "2590    Barton & Guestier\\nLes Roches Noires Châteaune...\n",
       "2591    Domaine de la Janasse\\nChâteauneuf-du-Pape Vie...\n",
       "2592    Pegau\\nCuvée Réservée Châteauneuf-du-Pape Roug...\n",
       "Name: name, Length: 2526, dtype: object"
      ]
     },
     "execution_count": 111,
     "metadata": {},
     "output_type": "execute_result"
    }
   ],
   "source": [
    "rhone_valley_wines_o['name']"
   ]
  },
  {
   "cell_type": "code",
   "execution_count": 166,
   "metadata": {},
   "outputs": [],
   "source": [
    "rhone_valley_wines_o = rhone_valley_wines_o.reset_index(drop=True, inplace=True)"
   ]
  },
  {
   "cell_type": "code",
   "execution_count": 150,
   "metadata": {},
   "outputs": [],
   "source": [
    "inner_join_rhone_valley = pd.merge(rhone_valley_wines_f, rhone_valley_wines_o, on='name', how='left')"
   ]
  },
  {
   "cell_type": "code",
   "execution_count": 151,
   "metadata": {},
   "outputs": [
    {
     "name": "stdout",
     "output_type": "stream",
     "text": [
      "<class 'pandas.core.frame.DataFrame'>\n",
      "RangeIndex: 385 entries, 0 to 384\n",
      "Data columns (total 24 columns):\n",
      " #   Column          Non-Null Count  Dtype  \n",
      "---  ------          --------------  -----  \n",
      " 0   name            385 non-null    object \n",
      " 1   year_x          385 non-null    int64  \n",
      " 2   price_x         385 non-null    object \n",
      " 3   bodyPercent_x   385 non-null    object \n",
      " 4   Tanning_x       385 non-null    object \n",
      " 5   Sugar           385 non-null    object \n",
      " 6   Acidic_x        385 non-null    object \n",
      " 7   wine_image      383 non-null    object \n",
      " 8   year_y          383 non-null    float64\n",
      " 9   price_y         383 non-null    object \n",
      " 10  bodyPercent_y   383 non-null    object \n",
      " 11  Tanning_y       383 non-null    object \n",
      " 12  Acidic_y        383 non-null    object \n",
      " 13  compareFoods    383 non-null    object \n",
      " 14  rating          383 non-null    float64\n",
      " 15  about_wine      383 non-null    object \n",
      " 16  Winery          383 non-null    object \n",
      " 17  Type            383 non-null    object \n",
      " 18  NewBodyPercent  383 non-null    float64\n",
      " 19  NewTanning      383 non-null    float64\n",
      " 20  NewAcidic       383 non-null    float64\n",
      " 21  Grape_Type      383 non-null    object \n",
      " 22  Alcohol         383 non-null    object \n",
      " 23  Allergy         311 non-null    object \n",
      "dtypes: float64(5), int64(1), object(18)\n",
      "memory usage: 72.3+ KB\n"
     ]
    }
   ],
   "source": [
    "inner_join_rhone_valley.info()"
   ]
  },
  {
   "cell_type": "code",
   "execution_count": 153,
   "metadata": {},
   "outputs": [],
   "source": [
    "inner_join_rhone_valley.drop(columns='Allergy', inplace=True)"
   ]
  },
  {
   "cell_type": "code",
   "execution_count": 154,
   "metadata": {},
   "outputs": [
    {
     "name": "stdout",
     "output_type": "stream",
     "text": [
      "<class 'pandas.core.frame.DataFrame'>\n",
      "RangeIndex: 385 entries, 0 to 384\n",
      "Data columns (total 23 columns):\n",
      " #   Column          Non-Null Count  Dtype  \n",
      "---  ------          --------------  -----  \n",
      " 0   name            385 non-null    object \n",
      " 1   year_x          385 non-null    int64  \n",
      " 2   price_x         385 non-null    object \n",
      " 3   bodyPercent_x   385 non-null    object \n",
      " 4   Tanning_x       385 non-null    object \n",
      " 5   Sugar           385 non-null    object \n",
      " 6   Acidic_x        385 non-null    object \n",
      " 7   wine_image      383 non-null    object \n",
      " 8   year_y          383 non-null    float64\n",
      " 9   price_y         383 non-null    object \n",
      " 10  bodyPercent_y   383 non-null    object \n",
      " 11  Tanning_y       383 non-null    object \n",
      " 12  Acidic_y        383 non-null    object \n",
      " 13  compareFoods    383 non-null    object \n",
      " 14  rating          383 non-null    float64\n",
      " 15  about_wine      383 non-null    object \n",
      " 16  Winery          383 non-null    object \n",
      " 17  Type            383 non-null    object \n",
      " 18  NewBodyPercent  383 non-null    float64\n",
      " 19  NewTanning      383 non-null    float64\n",
      " 20  NewAcidic       383 non-null    float64\n",
      " 21  Grape_Type      383 non-null    object \n",
      " 22  Alcohol         383 non-null    object \n",
      "dtypes: float64(5), int64(1), object(17)\n",
      "memory usage: 69.3+ KB\n"
     ]
    }
   ],
   "source": [
    "inner_join_rhone_valley.info()"
   ]
  },
  {
   "cell_type": "code",
   "execution_count": 157,
   "metadata": {},
   "outputs": [],
   "source": [
    "inner_join_rhone_valley.dropna(axis=0, inplace=True)"
   ]
  },
  {
   "cell_type": "code",
   "execution_count": 160,
   "metadata": {},
   "outputs": [],
   "source": [
    "inner_join_rhone_valley = inner_join_rhone_valley.reset_index().drop(columns='index')"
   ]
  },
  {
   "cell_type": "code",
   "execution_count": 161,
   "metadata": {},
   "outputs": [
    {
     "data": {
      "text/plain": [
       "(383, 23)"
      ]
     },
     "execution_count": 161,
     "metadata": {},
     "output_type": "execute_result"
    }
   ],
   "source": [
    "inner_join_rhone_valley.shape"
   ]
  },
  {
   "cell_type": "code",
   "execution_count": 163,
   "metadata": {},
   "outputs": [
    {
     "name": "stdout",
     "output_type": "stream",
     "text": [
      "<class 'pandas.core.frame.DataFrame'>\n",
      "RangeIndex: 383 entries, 0 to 382\n",
      "Data columns (total 23 columns):\n",
      " #   Column          Non-Null Count  Dtype  \n",
      "---  ------          --------------  -----  \n",
      " 0   name            383 non-null    object \n",
      " 1   year_x          383 non-null    int64  \n",
      " 2   price_x         383 non-null    object \n",
      " 3   bodyPercent_x   383 non-null    object \n",
      " 4   Tanning_x       383 non-null    object \n",
      " 5   Sugar           383 non-null    object \n",
      " 6   Acidic_x        383 non-null    object \n",
      " 7   wine_image      383 non-null    object \n",
      " 8   year_y          383 non-null    float64\n",
      " 9   price_y         383 non-null    object \n",
      " 10  bodyPercent_y   383 non-null    object \n",
      " 11  Tanning_y       383 non-null    object \n",
      " 12  Acidic_y        383 non-null    object \n",
      " 13  compareFoods    383 non-null    object \n",
      " 14  rating          383 non-null    float64\n",
      " 15  about_wine      383 non-null    object \n",
      " 16  Winery          383 non-null    object \n",
      " 17  Type            383 non-null    object \n",
      " 18  NewBodyPercent  383 non-null    float64\n",
      " 19  NewTanning      383 non-null    float64\n",
      " 20  NewAcidic       383 non-null    float64\n",
      " 21  Grape_Type      383 non-null    object \n",
      " 22  Alcohol         383 non-null    object \n",
      "dtypes: float64(5), int64(1), object(17)\n",
      "memory usage: 68.9+ KB\n"
     ]
    }
   ],
   "source": [
    "inner_join_rhone_valley.info()"
   ]
  },
  {
   "cell_type": "code",
   "execution_count": null,
   "metadata": {},
   "outputs": [],
   "source": []
  }
 ],
 "metadata": {
  "kernelspec": {
   "display_name": "base",
   "language": "python",
   "name": "python3"
  },
  "language_info": {
   "codemirror_mode": {
    "name": "ipython",
    "version": 3
   },
   "file_extension": ".py",
   "mimetype": "text/x-python",
   "name": "python",
   "nbconvert_exporter": "python",
   "pygments_lexer": "ipython3",
   "version": "3.11.7"
  }
 },
 "nbformat": 4,
 "nbformat_minor": 2
}
